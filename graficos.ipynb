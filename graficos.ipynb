import matplotlib.pyplot as plt
import numpy as np

x = np.linspace(-1, 10, num=101)

def f(x):
    return 3 - (3/5)*x
 
def g(x):
    return 5 - (5/2)*x

plt.rcParams['figure.figsize'] = [7, 3.7]
plt.plot(x, f(x), color='blue', label='$3x_1 + 5x_1 + x_3 = 15$')
plt.plot(x, g(x), color='red', label='$5x_1 + 2x_2 + x_4 = 10$')
plt.plot(20/19, 45/19, color='yellow', marker='o', label='$\\left(\\frac{20}{19}, \\frac{45}{19}\\right)$')
plt.text(20/19+0.1, 45/19+0.1, "3° Iteração", fontsize=12)
plt.plot(0, 0, color='black', marker='o')
plt.text(0.1, -0.45, "1° Iteração", fontsize=12)
plt.plot(2, 0, color='black', marker='o')
plt.text(2.15, -0.45, "2° Iteração", fontsize=12)
plt.hlines(0, -1, 10, color='black')
plt.vlines(0, -1, 6, color='black')
plt.xlabel('$x_1$')
plt.ylabel('$x_2$')
plt.legend()
plt.axis([-1, 8, -1, 6])
plt.grid()
plt.savefig(fname="Ex01.png", format='png')
plt.show()


x = np.linspace(-1, 5, num=101)

def f(x):
    return 3 - (3/4) * x

def g(x):
    return (1/2) * x

def h(x):
    return 2 * x - 2

plt.rcParams['figure.figsize'] = [7, 3.7]
plt.plot(x, f(x), color='red', label='$3x_1 + 4x_2 + x_3 = 12$')
plt.plot(x, g(x), color='blue', label='$x_1 - 2x_2 + x_4 = 0$')
plt.plot(x, h(x), color='green', label='$2x_1 - x_2 = 2$')
plt.hlines(0, -1, 5, color='black')
plt.vlines(0, -1, 4, color='black')
plt.plot(0, 0, color='black', marker='o')
plt.text(0.1, -0.24, "1° e 2° Iteração", fontsize=12)
plt.plot(4/3, 2/3, color='yellow', marker='o', label='$\\left(\\frac{4}{3}, \\frac{2}{3}\\right)$')
plt.text(4/3+0.1, 2/3-0.16, "3° e 6° Iteração", fontsize=12)
plt.plot(20/11, 18/11, color='black', marker='o')
plt.text(20/11+0.09, 18/11, "4° e 5° Iteração", fontsize=12)
plt.xlabel('$x_1$')
plt.ylabel('$x_2$')
plt.legend(loc='upper right')
plt.axis([-0.5, 5, -0.5, 4])
plt.grid()
plt.savefig(fname="Ex02.png", format='png')
plt.show()
